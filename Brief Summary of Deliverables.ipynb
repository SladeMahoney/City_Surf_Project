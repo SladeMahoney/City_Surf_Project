{
 "cells": [
  {
   "cell_type": "code",
   "execution_count": null,
   "metadata": {},
   "outputs": [],
   "source": [
    "# Technologies Used\n",
    "# See ReadME - SQL, Pandas, Numpy, Python, SKLEARN, Tableau, \n",
    "\n",
    "## Data Cleaning and Analysis\n",
    "#Pandas will be used to clean the data and perform an exploratory analysis. Further analysis will be completed using Python.\n",
    "# Trends and data averages, informational data to be shared with CSP will be found\n",
    "#using Python\n",
    "\n",
    "## Database Storage\n",
    "# We will be using SQL in PgAdmin to store and merge our data once we have it all cleaned to how we would like it\n",
    "\n",
    "## Machine Learning\n",
    "#SciKitLearn is the ML library we'll be using to create a classifier. \n",
    "# We will be using logistic regression to see whether students will remain in the class or not.\n",
    "# Our training and testing setup is _y = df[\"Will Stay In Program\"]_x = df.drop(columns = \"Date of Birth\",\"Ethnicity/Race\",\"Gender\",\"Home Zip Code\",\"School Attending\",\"Total Days\", \"% Attended\")\n",
    "\n",
    "## Dashboard\n",
    "In addition to using a Flask template, we will also integrate D3.js for a fully functioning and interactive dashboard. It will be hosted on ___."
   ]
  }
 ],
 "metadata": {
  "kernelspec": {
   "display_name": "Python 3",
   "language": "python",
   "name": "python3"
  },
  "language_info": {
   "codemirror_mode": {
    "name": "ipython",
    "version": 3
   },
   "file_extension": ".py",
   "mimetype": "text/x-python",
   "name": "python",
   "nbconvert_exporter": "python",
   "pygments_lexer": "ipython3",
   "version": "3.7.6"
  }
 },
 "nbformat": 4,
 "nbformat_minor": 4
}
